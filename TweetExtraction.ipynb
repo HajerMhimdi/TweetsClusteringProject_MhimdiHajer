{
 "cells": [
  {
   "cell_type": "markdown",
   "metadata": {},
   "source": [
    "***\n",
    "# <center> ***TweetExtraction***\n",
    "***"
   ]
  },
  {
   "cell_type": "markdown",
   "metadata": {},
   "source": [
    "# <span style=\"color:yellow\">1.Creating a Twitter App\n"
   ]
  },
  {
   "cell_type": "markdown",
   "metadata": {},
   "source": [
    "Afin d'extraire des tweets pour une analyse postérieure, nous devons accéder à notre compte Twitter et créer une application. Le site Web pour ce faire est https://apps.twitter.com/. (Si vous ne savez pas comment faire cela, vous pouvez suivre ce tutoriel vidéo pour créer un compte et une application.)\n",
    "\n",
    "À partir de cette application que nous créons, nous enregistrerons les informations suivantes dans un script appelé credentials.py:"
   ]
  },
  {
   "cell_type": "markdown",
   "metadata": {},
   "source": [
    "* Consumer Key (API Key)\n",
    "* Consumer Secret (API Secret)\n",
    "* Access Token\n",
    "* Access Token Secret\n",
    "\n",
    "An example of this script is the following:"
   ]
  },
  {
   "cell_type": "markdown",
   "metadata": {},
   "source": [
    "![alt text](appCap.png \"start your app\")\n"
   ]
  },
  {
   "cell_type": "markdown",
   "metadata": {},
   "source": [
    "# <span style=\"color:yellow\">2. Import Required Libraries and Set up OAuth Tokens"
   ]
  },
  {
   "cell_type": "markdown",
   "metadata": {},
   "source": [
    "Pour commencer, importez les bibliothèques nécessaires telles que tweepy et pandas et déclarez également le jeton OAuth qui est obtenu lors de la création de votre application sur le tableau de bord du développeur Twitter."
   ]
  },
  {
   "cell_type": "code",
   "execution_count": 1,
   "metadata": {},
   "outputs": [],
   "source": [
    "from tweepy import API\n",
    "from tweepy import Cursor\n",
    "from tweepy.streaming import StreamListener\n",
    "from tweepy import OAuthHandler\n",
    "from tweepy import Stream\n",
    "import csv\n",
    "import numpy as np\n",
    "import pandas as pd\n",
    "import json\n",
    "import sys\n",
    "from tweepy import *\n",
    "import tweepy\n",
    "\n",
    "import datetime"
   ]
  },
  {
   "cell_type": "code",
   "execution_count": 2,
   "metadata": {},
   "outputs": [],
   "source": [
    "def get_twitter_client_api(self):\n",
    "    return self.twitter_client\n",
    "\n",
    "def get_user_timeline_tweets(self, num_tweets):\n",
    "    tweets = []\n",
    "    for tweet in Cursor(self.twitter_client.user_timeline, id=self.twitter_user).items(num_tweets):\n",
    "        tweets.append(tweet)\n",
    "    return tweets\n",
    "\n",
    "def get_friend_list(self, num_friends):\n",
    "    friend_list = []\n",
    "    for friend in Cursor(self.twitter_client.friends, id=self.twitter_user).items(num_friends):\n",
    "        friend_list.append(friend)\n",
    "    return friend_list\n",
    "\n",
    "def get_home_timeline_tweets(self, num_tweets):\n",
    "    home_timeline_tweets = []\n",
    "    for tweet in Cursor(self.twitter_client.home_timeline, id=self.twitter_user).items(num_tweets):\n",
    "        home_timeline_tweets.append(tweet)\n",
    "    return home_timeline_tweets"
   ]
  },
  {
   "cell_type": "markdown",
   "metadata": {},
   "source": [
    "# <span style=\"color:yellow\">3. Authorize with Tweepy’s OAuthhandler"
   ]
  },
  {
   "cell_type": "markdown",
   "metadata": {},
   "source": [
    "Maintenant que nous avons défini les clés, nous allons procéder à nous autoriser avec OAuthHandler de tweepy. Nous allons passer les clés comme indiqué ci-dessous."
   ]
  },
  {
   "cell_type": "code",
   "execution_count": 3,
   "metadata": {},
   "outputs": [],
   "source": [
    "CONSUMER_KEY    ='EGFpIKjuZkzCF5nhEGnN7kJXZ'\n",
    "CONSUMER_SECRET ='VUQ87LLMXPuxScqS4sXySXz7WDt6cvj2eNyHIsMPOU6Qvbaxtw'\n",
    "\n",
    "# Access:\n",
    "ACCESS_TOKEN  ='1330654506846220289-pXx7YSvQgPTpn6eINm5yGNFUiGj2LV'\n",
    "ACCESS_SECRET ='62CkMDsRgj3XBFQR1UROBNytd7IvylbcC3IvkQzhor6NP'"
   ]
  },
  {
   "cell_type": "code",
   "execution_count": 4,
   "metadata": {},
   "outputs": [],
   "source": [
    "auth = tweepy.OAuthHandler(CONSUMER_KEY, CONSUMER_SECRET)\n",
    "auth.set_access_token(ACCESS_TOKEN, ACCESS_SECRET)\n",
    "api =tweepy.API(auth)"
   ]
  },
  {
   "cell_type": "markdown",
   "metadata": {},
   "source": [
    "<br>Tweepy est ici comme un outil pour accéder aux données Twitter d’une manière assez facile en Python. Nous pouvons recueillir différents types de données en mettant l’accent sur les objets « tweetés ». Après avoir recueilli les données, nous pouvons les utiliser pour différents étapes de clustering ."
   ]
  },
  {
   "cell_type": "markdown",
   "metadata": {},
   "source": [
    "#  <span style=\"color:yellow\">4. Extracting Specific Tweets from Twitter"
   ]
  },
  {
   "cell_type": "markdown",
   "metadata": {},
   "source": [
    "Tweepy vérifie à travers tous les tweets pour ce mot-clé particulier et récupère le contenu. Cela peut être <span style=\"color:blue\">Hashtags, @mentions, </span>ou même des <span style=\"color:blue\">mots normaux</span>.\n",
    "\n",
    "Parfois, même les retweets sont des extraits et pour éviter qu’on filtre les retweets.\n",
    "donc dans notre exemple on va chercher les tweets concernant  <span style=\"color:green\">* covid, sport, Healthcare, social </span>"
   ]
  },
  {
   "cell_type": "code",
   "execution_count": 6,
   "metadata": {},
   "outputs": [],
   "source": [
    "filename ='tweetsCSV/TweetsClusteringProject'+(datetime.datetime.now().strftime(\"%Y-%m-%d-%H\"))+'.csv'\n",
    "with open (filename, 'w', newline='',encoding=\"utf-8\") as csvFile:\n",
    "    csvWriter = csv.writer(csvFile)\n",
    "    csvWriter.writerow(['TweetId','Tweet'])\n",
    "    #using tweepy Cursor\n",
    "    for tweet in tweepy.Cursor(api.search, q='politcs', lang = 'en', count=400).items():\n",
    "    #writing a csv file\n",
    "        tweets_encoded = tweet.text.encode('utf-8')\n",
    "        tweets_decoded = tweets_encoded.decode('utf-8')\n",
    "        csvWriter.writerow([tweet.id,tweets_decoded])"
   ]
  },
  {
   "cell_type": "markdown",
   "metadata": {},
   "source": [
    "#### <center> <font color=\"red\"> comme Résultat:</font> <br><br> <font color=\"green\">TweetsClusteringProject (theme=politics) nbr de tweets extractés = 1255"
   ]
  },
  {
   "cell_type": "code",
   "execution_count": null,
   "metadata": {},
   "outputs": [],
   "source": [
    "filename ='tweetsCSV/TweetsClusteringProject2'+(datetime.datetime.now().strftime(\"%Y-%m-%d-%H\"))+'.csv'\n",
    "with open (filename, 'w', newline='',encoding=\"utf-8\") as csvFile:\n",
    "    csvWriter = csv.writer(csvFile)\n",
    "    csvWriter.writerow(['TweetId','Tweet'])\n",
    "    #using tweepy Cursor\n",
    "    for tweet in tweepy.Cursor(api.search, q='culture', lang = 'en', count=800).items():\n",
    "    #writing a csv file\n",
    "        tweets_encoded = tweet.text.encode('utf-8')\n",
    "        tweets_decoded = tweets_encoded.decode('utf-8')\n",
    "        csvWriter.writerow([tweet.id,tweets_decoded])"
   ]
  },
  {
   "cell_type": "markdown",
   "metadata": {},
   "source": [
    "#### <center> <font color=\"red\"> comme Résultat:</font> <br><br> <font color=\"green\">TweetsClusteringProject (theme=culture) nbr de tweets extractés = 7600"
   ]
  },
  {
   "cell_type": "code",
   "execution_count": null,
   "metadata": {},
   "outputs": [],
   "source": [
    "filename ='tweetsCSV/TweetsClusteringProject3'+(datetime.datetime.now().strftime(\"%Y-%m-%d-%H\"))+'.csv'\n",
    "with open (filename, 'w', newline='',encoding=\"utf-8\") as csvFile:\n",
    "    csvWriter = csv.writer(csvFile)\n",
    "    csvWriter.writerow(['TweetId','Tweet'])\n",
    "    #using tweepy Cursor\n",
    "    for tweet in tweepy.Cursor(api.search, q='health', lang = 'en', count=500).items():\n",
    "    #writing a csv file\n",
    "        tweets_encoded = tweet.text.encode('utf-8')\n",
    "        tweets_decoded = tweets_encoded.decode('utf-8')\n",
    "        csvWriter.writerow([tweet.id,tweets_decoded])"
   ]
  },
  {
   "cell_type": "markdown",
   "metadata": {},
   "source": [
    "#### <center> <font color=\"red\"> comme Résultat:</font> <br><br> <font color=\"green\"> TweetsClusteringProject (theme=health) nbr de tweets extractés = 5395"
   ]
  },
  {
   "cell_type": "code",
   "execution_count": null,
   "metadata": {},
   "outputs": [],
   "source": [
    "filename ='tweetsCSV/TweetsClusteringProject5'+(datetime.datetime.now().strftime(\"%Y-%m-%d-%H\"))+'.csv'\n",
    "with open (filename, 'w', newline='',encoding=\"utf-8\") as csvFile:\n",
    "    csvWriter = csv.writer(csvFile)\n",
    "    csvWriter.writerow(['TweetId','Tweet'])\n",
    "    #using tweepy Cursor\n",
    "    for tweet in tweepy.Cursor(api.search, q='social', lang = 'en', count=500).items():\n",
    "    #writing a csv file\n",
    "        tweets_encoded = tweet.text.encode('utf-8')\n",
    "        tweets_decoded = tweets_encoded.decode('utf-8')\n",
    "        csvWriter.writerow([tweet.id,tweets_decoded])"
   ]
  },
  {
   "cell_type": "markdown",
   "metadata": {},
   "source": [
    "#### <center> <font color=\"red\"> comme Résultat:</font> <br><br> <font color=\"green\">TweetsClusteringProject (theme=social) nbr de tweets extractés = 17092 </center> \n",
    " "
   ]
  },
  {
   "cell_type": "code",
   "execution_count": null,
   "metadata": {},
   "outputs": [],
   "source": []
  }
 ],
 "metadata": {
  "kernelspec": {
   "display_name": "Python 3",
   "language": "python",
   "name": "python3"
  },
  "language_info": {
   "codemirror_mode": {
    "name": "ipython",
    "version": 3
   },
   "file_extension": ".py",
   "mimetype": "text/x-python",
   "name": "python",
   "nbconvert_exporter": "python",
   "pygments_lexer": "ipython3",
   "version": "3.8.3"
  }
 },
 "nbformat": 4,
 "nbformat_minor": 4
}
